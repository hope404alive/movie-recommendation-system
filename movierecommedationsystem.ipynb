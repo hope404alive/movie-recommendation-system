{
  "nbformat": 4,
  "nbformat_minor": 0,
  "metadata": {
    "colab": {
      "provenance": []
    },
    "kernelspec": {
      "name": "python3",
      "display_name": "Python 3"
    },
    "language_info": {
      "name": "python"
    }
  },
  "cells": [
    {
      "cell_type": "code",
      "execution_count": 1,
      "metadata": {
        "id": "zRvyCtsJyat2"
      },
      "outputs": [],
      "source": [
        "import pandas as pd\n",
        "from sklearn.feature_extraction.text import TfidfVectorizer\n",
        "from sklearn.metrics.pairwise import linear_kernel\n",
        "\n",
        "\n",
        "\n",
        "\n",
        "\n",
        "\n",
        "\n"
      ]
    },
    {
      "cell_type": "code",
      "source": [
        "# Load the dataset from the provided URL into a Pandas DataFrame\n",
        "url = \"https://raw.githubusercontent.com/YBI-Foundation/Dataset/main/Movies%20Recommendation.csv\"\n",
        "df = pd.read_csv(url)\n"
      ],
      "metadata": {
        "id": "3bogiHJMnxo1"
      },
      "execution_count": 2,
      "outputs": []
    },
    {
      "cell_type": "code",
      "source": [
        "# Data Preprocessing\n",
        "# Combine relevant text features into a single 'content' feature for recommendation\n",
        "df['content'] = df['Movie_Title'] + ' ' + df['Movie_Genre']\n",
        "\n",
        "# Create a TF-IDF vectorizer to convert text content into numerical vectors\n",
        "vectorizer = TfidfVectorizer(stop_words='english')\n",
        "tfidf_matrix = vectorizer.fit_transform(df['content'])\n",
        "# Calculate cosine similarity between movies based on their TF-IDF vectors\n",
        "cosine_sim = linear_kernel(tfidf_matrix, tfidf_matrix)"
      ],
      "metadata": {
        "id": "5-5RQ_aen0e1"
      },
      "execution_count": 4,
      "outputs": []
    },
    {
      "cell_type": "code",
      "source": [
        "# Function to get movie recommendations based on movie title\n",
        "def get_recommendations(title, cosine_sim, df, top_n=10):\n",
        "    idx = df.index[df['Movie_Title'] == title].tolist()[0]\n",
        "    sim_scores = list(enumerate(cosine_sim[idx]))\n",
        "    sim_scores = sorted(sim_scores, key=lambda x: x[1], reverse=True)\n",
        "    sim_scores = sim_scores[1:top_n+1]\n",
        "    movie_indices = [i[0] for i in sim_scores]\n",
        "    return df['Movie_Title'].iloc[movie_indices]\n"
      ],
      "metadata": {
        "id": "KWnimykon-XM"
      },
      "execution_count": 5,
      "outputs": []
    },
    {
      "cell_type": "code",
      "source": [
        "# Example: Get top 10 movie recommendations for a specific movie title\n",
        "movie_title = 'Four Rooms'\n",
        "recommendations = get_recommendations(movie_title, cosine_sim, df)\n",
        "print(f\"Top 10 movie recommendations for '{movie_title}':\")\n",
        "print(recommendations)\n"
      ],
      "metadata": {
        "colab": {
          "base_uri": "https://localhost:8080/"
        },
        "id": "LicJ1-AFoCDY",
        "outputId": "b8b998b0-0494-4604-a953-9de686274578"
      },
      "execution_count": 6,
      "outputs": [
        {
          "output_type": "stream",
          "name": "stdout",
          "text": [
            "Top 10 movie recommendations for 'Four Rooms':\n",
            "1300                  Go\n",
            "3142            The R.M.\n",
            "3464            R.I.P.D.\n",
            "3775      Now You See Me\n",
            "4164            The Call\n",
            "2204             The Ten\n",
            "4557    Now You See Me 2\n",
            "1226            S.W.A.T.\n",
            "1214             The Man\n",
            "2607      Alone With Her\n",
            "Name: Movie_Title, dtype: object\n"
          ]
        }
      ]
    }
  ]
}